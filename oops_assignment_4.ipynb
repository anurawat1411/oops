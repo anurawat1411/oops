{
  "nbformat": 4,
  "nbformat_minor": 0,
  "metadata": {
    "colab": {
      "provenance": []
    },
    "kernelspec": {
      "name": "python3",
      "display_name": "Python 3"
    },
    "language_info": {
      "name": "python"
    }
  },
  "cells": [
    {
      "cell_type": "markdown",
      "source": [
        "# Python OOPs Questions"
      ],
      "metadata": {
        "id": "dkw_FpCeSsp0"
      }
    },
    {
      "cell_type": "markdown",
      "source": [
        "# **What is Object-Oriented Programming (OOP)**"
      ],
      "metadata": {
        "id": "ATxdX9R4SwIt"
      }
    },
    {
      "cell_type": "markdown",
      "source": [
        ">>object oriented programming concepts>> to make a structur of programm in python\n",
        "\n",
        "Object-Oriented Programming (OOP) is a programming paradigm (or way of thinking about writing code) that organizes code into objects—self-contained units that combine data and behavior.\n",
        "\n",
        "Think of it like designing a blueprint (called a class) and then creating multiple versions of it (called objects or instances)."
      ],
      "metadata": {
        "id": "lgSNWftcTMhJ"
      }
    },
    {
      "cell_type": "markdown",
      "source": [],
      "metadata": {
        "id": "GwskHG7UTf20"
      }
    },
    {
      "cell_type": "markdown",
      "source": [
        "# **What is a class in oop.**"
      ],
      "metadata": {
        "id": "8t3K5a-XTog5"
      }
    },
    {
      "cell_type": "markdown",
      "source": [
        ">>Class\n",
        "\n",
        "In OOP, a class is a template or blueprint for creating objects. It defines:\n",
        "\n",
        "What data the object will have (these are called attributes or properties)\n",
        "\n",
        "What actions the object can perform (these are called methods, which are functions inside the class)\n",
        "\n",
        "\n",
        "class Dog:\n",
        "    # Constructor method to initialize attributes\n",
        "    def __init__(self, name, age):\n",
        "        self.name = name  # attribute\n",
        "        self.age = age    # attribute\n",
        "\n",
        "    # Method (behavior)\n",
        "    def bark(self):\n",
        "        print(f\"{self.name} says woof!\")\n",
        "\n",
        "# Creating instances (objects)\n",
        "dog1 = Dog(\"Buddy\", 3)\n",
        "\n",
        "dog2 = Dog(\"Luna\", 5)\n",
        "\n",
        "dog1.bark()  \n",
        "dog2.bark()\n",
        "\n",
        "buddy says woof\n",
        "\n",
        "luna says woof\n",
        "\n"
      ],
      "metadata": {
        "id": "IJ_t8TvmT1YG"
      }
    },
    {
      "cell_type": "markdown",
      "source": [
        "# What is an object in OOP"
      ],
      "metadata": {
        "id": "--tkeR4cU6gr"
      }
    },
    {
      "cell_type": "markdown",
      "source": [
        "An object in Object-Oriented Programming (OOP) is a specific instance of a class.\n",
        "\n",
        "It has:\n",
        "\n",
        "Attributes (data)\n",
        "\n",
        "Methods (actions or functions)\n",
        "\n",
        "\n",
        "class Car:\n",
        "\n",
        "    def __init__(self, brand):\n",
        "        self.brand = brand\n",
        "\n",
        "    def honk(self):\n",
        "        print(f\"{self.brand} goes beep!\")\n",
        "\n",
        "my_car = Car(\"Toyota\")  \n",
        "my_car.honk()\n",
        "\n",
        "toyto goes beep\n",
        "\n",
        "Car = class,\n",
        "my_car = object\n"
      ],
      "metadata": {
        "id": "YyVcJ6_PWBuv"
      }
    },
    {
      "cell_type": "markdown",
      "source": [
        "# What is the difference between abstraction and encapsulation"
      ],
      "metadata": {
        "id": "_5wuaVINWzxP"
      }
    },
    {
      "cell_type": "markdown",
      "source": [
        "| Concept        | Abstraction                                                 | Encapsulation                                      |\n",
        "| -------------- | ----------------------------------------------------------- | -------------------------------------------------- |\n",
        "| **What it is** | Hiding **unnecessary details**                              | Hiding **internal data**                           |\n",
        "| **Focus on**   | **What** an object does                                     | **How** it does it (and protecting it)             |\n",
        "| **Purpose**    | Simplify usage                                              | Protect data from outside interference             |\n",
        "| **Example**    | You use a **TV remote** without knowing how it works inside | The **TV hides circuits** so you can’t damage them |\n",
        "\n",
        "\n",
        ">Abstraction = “Just use it, don’t worry how it works”\n",
        ">Encapsulation = “You can’t touch my internal parts unless I let you”\n"
      ],
      "metadata": {
        "id": "pB4MLheTW7Ir"
      }
    },
    {
      "cell_type": "markdown",
      "source": [
        "# What are dunder methods in Python"
      ],
      "metadata": {
        "id": "xHk4lt2hcKDG"
      }
    },
    {
      "cell_type": "markdown",
      "source": [
        "Dunder methods (short for double underscore) are special methods in Python that start and end with __.\n",
        "They let you define how your objects behave with built-in operations like printing, adding, comparing, etc.\n",
        "\n",
        "They look like this: __init__, __str__, __add__, etc.\n",
        "\n",
        "\n",
        "class Book:\n",
        "\n",
        "    def __init__(self, title):\n",
        "        self.title = title\n",
        "\n",
        "    def __str__(self):\n",
        "        return f\"Book: {self.title}\"\n",
        "\n",
        "book = Book(\"1984\")\n",
        "\n",
        "print(book)  \n",
        "\n",
        "Book : 1984\n",
        "\n",
        "Dunder methods are Python’s way of letting you customize how your objects behave with built-in functions and operators."
      ],
      "metadata": {
        "id": "pLa6pksMbb1J"
      }
    },
    {
      "cell_type": "markdown",
      "source": [
        "# Explain the concept of inheritance in OOP"
      ],
      "metadata": {
        "id": "sNTv08eedaZ8"
      }
    },
    {
      "cell_type": "markdown",
      "source": [
        "Inheritance allows a class (child or subclass) to reuse the attributes and methods of another class (parent or superclass). It helps reduce code duplication and build a logical class hierarchy.\n",
        "\n",
        "# Parent class (aka base class or superclass)\n",
        "class Animal:\n",
        "\n",
        "    def __init__(self, name):\n",
        "        self.name = name\n",
        "\n",
        "    def speak(self):\n",
        "        print(f\"{self.name} makes a sound\")\n",
        "\n",
        "# Child class (inherits from Animal)\n",
        "class Dog(Animal):\n",
        "\n",
        "    def speak(self):\n",
        "        print(f\"{self.name} says woof!\")\n",
        "\n",
        "# Creating an instance of Dog\n",
        "\n",
        "my_dog = Dog(\"Buddy\")\n",
        "\n",
        "my_dog.speak()  # Output: Buddy says woof!\n",
        "\n",
        "\n",
        "Dog inherits from Animal.\n",
        "It gets the __init__ method for free.\n",
        "But it also overrides speak() to customize behavior\n"
      ],
      "metadata": {
        "id": "F_zz17EGdBhJ"
      }
    },
    {
      "cell_type": "markdown",
      "source": [
        "# What is polymorphism in OOP"
      ],
      "metadata": {
        "id": "EBiyLh6zd-dr"
      }
    },
    {
      "cell_type": "markdown",
      "source": [
        ">Polymorphism means “many forms.”\n",
        "\n",
        "In OOP, it allows different classes to define methods with the same name, but with different behavior.\n",
        "\n",
        "class Cat:\n",
        "\n",
        "    def speak(self):\n",
        "        print(\"Meow\")\n",
        "\n",
        "class Dog:\n",
        "\n",
        "    def speak(self):\n",
        "        print(\"Woof\")\n",
        "\n",
        "# Polymorphism in action\n",
        "for animal in [Cat(), Dog()]:\n",
        "\n",
        "    animal.speak()  # Output: Meow, then Woof\n",
        "\n",
        "Polymorphism lets you use the same method name across different classes, each doing its own thing."
      ],
      "metadata": {
        "id": "-uGQ3VfeeGcr"
      }
    },
    {
      "cell_type": "markdown",
      "source": [
        "#  How is encapsulation achieved in Python"
      ],
      "metadata": {
        "id": "27yPL5Whe48f"
      }
    },
    {
      "cell_type": "markdown",
      "source": [
        ">Encapsulation in Python\n",
        "\n",
        "Encapsulation is achieved by restricting access to data using:\n",
        "Private variables (prefix with __)\n",
        "\n",
        "Getter and setter methods to safely access or modify data\n",
        "\n",
        "\n",
        "class Person:\n",
        "\n",
        "    def __init__(self, name):\n",
        "        self.__name = name  # private variable\n",
        "\n",
        "    def get_name(self):     # getter\n",
        "        return self.__name\n",
        "\n",
        "    def set_name(self, name):  # setter\n",
        "        self.__name = name\n",
        "\n",
        "__name is hidden from outside\n",
        "\n",
        "Access is controlled through get_name() and set_name()        \n"
      ],
      "metadata": {
        "id": "my0fZU5sfBy6"
      }
    },
    {
      "cell_type": "markdown",
      "source": [
        "# What is a constructor in Python"
      ],
      "metadata": {
        "id": "ZKEED52-gFPt"
      }
    },
    {
      "cell_type": "markdown",
      "source": [
        ">Constructor in Python\n",
        "\n",
        "A constructor is a special method in Python called __init__() that runs automatically when you create an object from a class.\n",
        "\n",
        "It’s used to initialize the object’s attributes.\n",
        "\n",
        "class Person:\n",
        "\n",
        "    def __init__(self, name, age):  # constructor\n",
        "        self.name = name\n",
        "        self.age = age\n",
        "\n",
        "p = Person(\"Alice\", 30)  # __init__ runs here\n",
        "\n",
        "__init__() sets up the object with initial values (name, age)\n",
        "\n",
        "\n",
        "\n",
        "\n"
      ],
      "metadata": {
        "id": "0kSsxgsPgPhL"
      }
    },
    {
      "cell_type": "markdown",
      "source": [
        "# What are class and static methods in Python\n"
      ],
      "metadata": {
        "id": "mn2KAlSOgv11"
      }
    },
    {
      "cell_type": "markdown",
      "source": [
        "Imagine a class in Python like a blueprint for building houses. Each house (object) you build from it can have its own features, like color or size. But sometimes, you want to:\n",
        "\n",
        "Talk about the blueprint itself (not a specific house) → you use a class method.\n",
        "\n",
        "Run some tool or utility function that doesn’t care about the house or blueprint → you use a static method.\n",
        "\n",
        ">Class Method\n",
        "\n",
        "This method works with the class itself, not individual objects. You use the @classmethod decorator.\n",
        "\n",
        "class Dog:\n",
        "\n",
        "    species = \"Canis lupus\"\n",
        "\n",
        "    @classmethod\n",
        "    def get_species(cls):\n",
        "        return cls.species\n",
        "\n",
        "\n",
        ">Static Method\n",
        "\n",
        "This is a method inside a class, but it doesn’t access self or cls. It's just a regular function grouped inside the class.\n",
        "\n",
        "class Dog:\n",
        "\n",
        "    @staticmethod\n",
        "    def bark_sound():\n",
        "        return \"Woof!\"\n",
        "\n",
        "\n"
      ],
      "metadata": {
        "id": "tkL9_tQRBI5S"
      }
    },
    {
      "cell_type": "markdown",
      "source": [
        "#  What is method overloading in Python"
      ],
      "metadata": {
        "id": "QIQcEvmpBudB"
      }
    },
    {
      "cell_type": "markdown",
      "source": [
        "In general (other languages): Method overloading means you can define multiple methods with the same name but different parameters (different number or type).\n",
        "\n",
        "But...\n",
        "\n",
        ">>In Python: True Overloading Doesn't Exist!\n",
        "\n",
        "Python doesn't support method overloading in the way statically-typed languages do. If you try to define the same method name twice, the last one wins:\n",
        "\n",
        "class Demo:\n",
        "\n",
        "    def greet(self):\n",
        "        print(\"Hello!\")\n",
        "\n",
        "    def greet(self, name):\n",
        "        print(f\"Hello, {name}!\")\n",
        "\n",
        "d = Demo()\n",
        "\n",
        "d.greet(\"Alice\")  # Works\n",
        "\n",
        "\n"
      ],
      "metadata": {
        "id": "zrsHDHMdCIZY"
      }
    },
    {
      "cell_type": "markdown",
      "source": [
        "## What is method overriding in OOP"
      ],
      "metadata": {
        "id": "yLeGJtbGC2nH"
      }
    },
    {
      "cell_type": "markdown",
      "source": [
        "Method overriding is when a subclass (child class) changes or replaces the behavior of a method defined in its superclass (parent class).\n",
        "\n",
        "So:\n",
        "\n",
        "The method name stays the same.\n",
        "\n",
        "The implementation is different.\n",
        "\n",
        "Python uses the child class version when called on a child class object.\n",
        "\n",
        "\n",
        "class Animal:\n",
        "\n",
        "    def speak(self):\n",
        "        return \"Some generic animal sound\"\n",
        "\n",
        "class Dog(Animal):\n",
        "\n",
        "    def speak(self):\n",
        "        return \"Woof!\"\n",
        "\n",
        "a = Animal()\n",
        "print(a.speak())  # Output: Some generic animal sound\n",
        "\n",
        "d = Dog()\n",
        "print(d.speak())  # Output: Woof! (overridden)\n"
      ],
      "metadata": {
        "id": "vIK3OHHBDGs2"
      }
    },
    {
      "cell_type": "markdown",
      "source": [
        "# What is a property decorator in Python"
      ],
      "metadata": {
        "id": "S2B7Sgj0Dpep"
      }
    },
    {
      "cell_type": "markdown",
      "source": [
        "The @property decorator in Python lets you turn a method into a read-only attribute.\n",
        "\n",
        "class Circle:\n",
        "\n",
        "    def __init__(self, radius):\n",
        "        self._radius = radius\n",
        "\n",
        "    @property\n",
        "    def area(self):\n",
        "        return 3.14 * self._radius ** 2\n",
        "\n",
        "c = Circle(5)\n",
        "print(c.area)  # No parentheses needed! Output: 78.5\n",
        "\n",
        ">>It's useful for:\n",
        "\n",
        "Making method results feel like attributes.\n",
        "\n",
        "Controlling access to private data (_radius).\n",
        "\n",
        "Adding validation with @<property>.setter.\n",
        "\n",
        "\n",
        "\n",
        "\n"
      ],
      "metadata": {
        "id": "dEZ-sLiRDscS"
      }
    },
    {
      "cell_type": "markdown",
      "source": [
        "#  Why is polymorphism important in OOP"
      ],
      "metadata": {
        "id": "hxYlqbs5EMPx"
      }
    },
    {
      "cell_type": "markdown",
      "source": [
        "Polymorphism is important in OOP because it lets different objects respond to the same method call in their own way, making your code more flexible, reusable, and easier to maintain.\n",
        "\n",
        ">Key benefits:\n",
        "\n",
        "Simplifies code by treating different types uniformly.\n",
        "\n",
        "Supports extensibility—you can add new classes without changing existing code.\n",
        "\n",
        "Enables dynamic behavior through method overriding.\n",
        "\n",
        "Example:\n",
        "class Animal:\n",
        "\n",
        "    def speak(self):\n",
        "        pass\n",
        "\n",
        "class Dog(Animal):\n",
        "\n",
        "    def speak(self):\n",
        "        return \"Woof\"\n",
        "\n",
        "class Cat(Animal):\n",
        "\n",
        "    def speak(self):\n",
        "        return \"Meow\"\n",
        "\n",
        "def make_sound(animal):\n",
        "\n",
        "    print(animal.speak())\n",
        "\n",
        "Now make_sound() works for any Animal, no matter what subclass.    \n"
      ],
      "metadata": {
        "id": "P9RYx17-EPja"
      }
    },
    {
      "cell_type": "markdown",
      "source": [
        "# What is an abstract class in Python"
      ],
      "metadata": {
        "id": "0eNxNeeIFIUv"
      }
    },
    {
      "cell_type": "markdown",
      "source": [
        "An abstract class in Python is a class that can't be instantiated on its own and is meant to be inherited by other classes. It defines abstract methods that must be implemented by any subclass.\n",
        "\n",
        ">Key points:\n",
        "\n",
        "Used to define a common interface for a group of related classes.\n",
        "\n",
        "Helps enforce consistent method names and signatures across subclasses.\n",
        "\n",
        "Defined using the abc module.\n",
        "\n",
        "Example:\n",
        "\n",
        "from abc import ABC, abstractmethod\n",
        "\n",
        "class Animal(ABC):\n",
        "\n",
        "    @abstractmethod\n",
        "    def speak(self):\n",
        "        pass\n",
        "\n",
        "Now any subclass of Animal must implement speak().\n",
        "\n",
        "\n",
        "\n",
        "\n"
      ],
      "metadata": {
        "id": "LtXm6xtXFKTs"
      }
    },
    {
      "cell_type": "markdown",
      "source": [
        "#  What are the advantages of OOP"
      ],
      "metadata": {
        "id": "q9aP-QCeGgUl"
      }
    },
    {
      "cell_type": "markdown",
      "source": [
        ">.Here’s a short and sharp answer on the advantages of Object-Oriented Programming (OOP):\n",
        "\n",
        "Advantages of OOP:\n",
        "\n",
        "Modularity – Code is organized into classes, making it easier to manage and reuse.\n",
        "\n",
        "Encapsulation – Hides internal details; only exposes what’s necessary.\n",
        "\n",
        "Inheritance – Reuse code by extending existing classes.\n",
        "\n",
        "Polymorphism – Write flexible code that works with different object types.\n",
        "\n",
        "Scalability – Easier to build large, maintainable systems.\n",
        "\n",
        "Maintainability – Code is cleaner and easier to update or debug.\n",
        "\n",
        "Want a real-world metaphor (like cars or apps) to help visualize these benefits? Or dive deeper into one of them?\n",
        "\n",
        "\n",
        "\n",
        "\n",
        "\n",
        "\n",
        "\n",
        "\n",
        "\n",
        "\n"
      ],
      "metadata": {
        "id": "_hGQusf7HEEC"
      }
    },
    {
      "cell_type": "markdown",
      "source": [
        "# What is the difference between a class variable and an instance variable"
      ],
      "metadata": {
        "id": "m2NTKUQJHdTM"
      }
    },
    {
      "cell_type": "markdown",
      "source": [
        ">>Class Variable vs Instance Variable\n",
        "\n",
        "| Feature       | **Class Variable**                       | **Instance Variable**                 |\n",
        "| ------------- | ---------------------------------------- | ------------------------------------- |\n",
        "| Belongs to    | The **class itself**                     | Each **individual object (instance)** |\n",
        "| Shared across | ✅ **All instances**                      | ❌ Each instance has its **own copy**  |\n",
        "| Defined using | Outside `__init__` (inside class)        | Inside `__init__` (or with `self.`)   |\n",
        "| Use case      | Constants or shared data (e.g., counter) | Unique attributes (e.g., name, age)   |\n",
        "\n",
        "class Dog:\n",
        "\n",
        "    species = \"Canis lupus\"     # Class variable\n",
        "\n",
        "    def __init__(self, name):\n",
        "        self.name = name        # Instance variable\n",
        "\n",
        "\n",
        "dog1 = Dog(\"Fido\")\n",
        "\n",
        "dog2 = Dog(\"Buddy\")\n",
        "\n",
        "print(dog1.species)  # Canis lupus (shared)\n",
        "\n",
        "print(dog2.name)     # Buddy (unique)\n",
        "\n",
        "\n"
      ],
      "metadata": {
        "id": "KCSXd99uIsgG"
      }
    },
    {
      "cell_type": "markdown",
      "source": [
        "# What is multiple inheritance in Python"
      ],
      "metadata": {
        "id": "JvfSPTPOJr8Y"
      }
    },
    {
      "cell_type": "markdown",
      "source": [
        ">>Multiple Inheritance in Python\n",
        "\n",
        "Multiple inheritance means a class can inherit from more than one parent class.\n",
        "\n",
        "class Flyer:\n",
        "\n",
        "    def fly(self):\n",
        "        return \"Flying\"\n",
        "\n",
        "class Swimmer:\n",
        "\n",
        "    def swim(self):\n",
        "        return \"Swimming\"\n",
        "\n",
        "class Duck(Flyer, Swimmer):\n",
        "\n",
        "    pass\n",
        "\n",
        "d = Duck()\n",
        "\n",
        "print(d.fly())   # Flying\n",
        "\n",
        "print(d.swim())  # Swimming\n",
        "\n",
        "\n",
        ">>Why it matters:\n",
        "\n",
        "Lets you combine behaviors from multiple classes.\n",
        "\n",
        "Powerful, but can lead to complexity if not used carefully.\n",
        "\n",
        "Python uses Method Resolution Order (MRO) to decide which method to run when there’s overlap.\n"
      ],
      "metadata": {
        "id": "cK_wLs-tKGZD"
      }
    },
    {
      "cell_type": "markdown",
      "source": [
        "# Explain the purpose of ‘’__str__’ and ‘__repr__’ ‘ methods in PythonH"
      ],
      "metadata": {
        "id": "EEWTNTSTLFdo"
      }
    },
    {
      "cell_type": "markdown",
      "source": [
        ">>__str__ vs __repr__ in Python\n",
        "\n",
        "Both __str__ and __repr__ are special methods used to define string representations of objects.\n",
        "\n",
        "| Method     | Purpose                       | Used by              | Goal                         |\n",
        "| ---------- | ----------------------------- | -------------------- | ---------------------------- |\n",
        "| `__str__`  | User-friendly string (pretty) | `print()` or `str()` | For humans                   |\n",
        "| `__repr__` | Official string (debugging)   | `repr()` or console  | For developers (unambiguous) |\n",
        "\n",
        "\n",
        "class Book:\n",
        "\n",
        "    def __init__(self, title):\n",
        "        self.title = title\n",
        "\n",
        "    def __str__(self):\n",
        "        return f\"Book: {self.title}\"\n",
        "\n",
        "    def __repr__(self):\n",
        "        return f\"Book('{self.title}')\"\n",
        "\n",
        "b = Book(\"1984\")\n",
        "\n",
        "print(str(b))   # Book: 1984\n",
        "\n",
        "print(repr(b))  # Book('1984')\n",
        "\n",
        "\n",
        "\n"
      ],
      "metadata": {
        "id": "5eomPmnULIrq"
      }
    },
    {
      "cell_type": "markdown",
      "source": [
        "# What is the significance of the ‘super()’ function in Python"
      ],
      "metadata": {
        "id": "oASshUqmLvN0"
      }
    },
    {
      "cell_type": "markdown",
      "source": [
        ">super() in Python\n",
        "\n",
        "The super() function is used to call methods from a parent (super) class in a child class.\n",
        "\n",
        ">Why it's important:\n",
        "\n",
        "Allows you to reuse parent class code without hardcoding the class name.\n",
        "\n",
        "Supports multiple inheritance by following the method resolution order (MRO).\n",
        "\n",
        "Commonly used in __init__ and method overrides.\n",
        "\n",
        "Example:\n",
        "\n",
        "class Parent:\n",
        "\n",
        "    def greet(self):\n",
        "        print(\"Hello from Parent\")\n",
        "\n",
        "class Child(Parent):\n",
        "\n",
        "    def greet(self):\n",
        "        super().greet()\n",
        "        print(\"Hello from Child\")\n",
        "\n",
        "c = Child()\n",
        "\n",
        "c.greet()\n",
        "\n",
        "Output:\n",
        "Hello from Parent\n",
        "\n",
        "Hello from Child\n",
        "\n"
      ],
      "metadata": {
        "id": "CSMbXi_JL1rA"
      }
    },
    {
      "cell_type": "markdown",
      "source": [
        "#  What is the significance of the __del__ method in Python"
      ],
      "metadata": {
        "id": "brPbo4c-NKC9"
      }
    },
    {
      "cell_type": "markdown",
      "source": [
        ">>__del__ Method in Python\n",
        "\n",
        "The __del__ method is a destructor in Python. It's called when an object is about to be deleted (i.e., garbage collected).\n",
        "\n",
        ">Purpose:\n",
        "\n",
        "Used to clean up resources (like closing files or network connections) before an object is destroyed.\n",
        "\n",
        ">Caution:\n",
        "\n",
        "Not always predictable when it runs.\n",
        "\n",
        "Can cause issues if misused—use context managers (with statements) when possible.\n",
        "\n",
        "Example:\n",
        "\n",
        "class FileHandler:\n",
        "\n",
        "    def __init__(self, filename):\n",
        "        self.file = open(filename, 'w')\n",
        "\n",
        "    def __del__(self):    \n",
        "        print(\"Closing file\")\n",
        "        self.file.close()\n"
      ],
      "metadata": {
        "id": "gZrCHiRLNTg5"
      }
    },
    {
      "cell_type": "markdown",
      "source": [],
      "metadata": {
        "id": "ExqUhka0Qmku"
      }
    },
    {
      "cell_type": "markdown",
      "source": [
        ">>@staticmethod vs @classmethod\n",
        "\n",
        "| Feature   | `@staticmethod`                             | `@classmethod`                           |\n",
        "| --------- | ------------------------------------------- | ---------------------------------------- |\n",
        "| Receives  | No default first argument                   | Gets `cls` (the class) as first argument |\n",
        "| Access to | Neither class (`cls`) nor instance (`self`) | Can access and modify class state        |\n",
        "| Use case  | Utility functions                           | Factory methods, working with class data |\n",
        "\n",
        "\n",
        "class MyClass:\n",
        "\n",
        "    @staticmethod\n",
        "    def add(x, y):\n",
        "        return x + y\n",
        "\n",
        "    @classmethod\n",
        "    def create(cls):\n",
        "        return cls()\n",
        "\n",
        "\n",
        "Use @staticmethod for general-purpose functions.\n",
        "\n",
        "Use @classmethod when you need to work with the class itself.        \n",
        "\n"
      ],
      "metadata": {
        "id": "y0AzNGhyQnTI"
      }
    },
    {
      "cell_type": "markdown",
      "source": [
        "# How does polymorphism work in Python with inheritance\n"
      ],
      "metadata": {
        "id": "5YEIOhuIReW4"
      }
    },
    {
      "cell_type": "markdown",
      "source": [
        ">>Polymorphism with Inheritance in Python\n",
        "\n",
        "Polymorphism allows different classes to use the same method name but implement it differently. When combined with inheritance, it lets you call the same method on objects of different subclasses, and Python picks the right version automatically.\n",
        "\n",
        "Example:\n",
        "\n",
        "class Animal:\n",
        "\n",
        "    def speak(self):\n",
        "        return \"Some sound\"\n",
        "\n",
        "class Dog(Animal):\n",
        "\n",
        "    def speak(self):\n",
        "        return \"Woof\"\n",
        "\n",
        "class Cat(Animal):\n",
        "\n",
        "    def speak(self):\n",
        "        return \"Meow\"\n",
        "\n",
        "def make_sound(animal):\n",
        "\n",
        "    print(animal.speak())\n",
        "\n",
        "make_sound(Dog())  # Woof\n",
        "make_sound(Cat())  # Meow\n",
        "\n",
        "Same method name, different behavior → That’s polymorphism in action!\n"
      ],
      "metadata": {
        "id": "oUc2E6VqQ2_B"
      }
    },
    {
      "cell_type": "markdown",
      "source": [
        "# What is method chaining in Python OOP"
      ],
      "metadata": {
        "id": "95KUxrOXRiI4"
      }
    },
    {
      "cell_type": "markdown",
      "source": [
        ">>Method Chaining in Python\n",
        "\n",
        "Method chaining is when you call multiple methods on the same object in a single line, one after another.\n",
        "\n",
        ">How it works:\n",
        "\n",
        "Each method returns self (the object), so the next method can be called immediately.\n",
        "\n",
        "Example:\n",
        "\n",
        "class Builder:\n",
        "\n",
        "    def __init__(self):\n",
        "        self.data = []\n",
        "\n",
        "    def add(self, item):\n",
        "        self.data.append(item)\n",
        "        return self\n",
        "\n",
        "    def show(self):\n",
        "        print(self.data)\n",
        "        return self\n",
        "\n",
        "Method chaining in action\n",
        "Builder().add(1).add(2).show()  # Output: [1, 2]\n"
      ],
      "metadata": {
        "id": "kOyGvyPBrDbu"
      }
    },
    {
      "cell_type": "markdown",
      "source": [
        "# What is the purpose of the __call__ method in Python"
      ],
      "metadata": {
        "id": "z42Hvm5urfuG"
      }
    },
    {
      "cell_type": "markdown",
      "source": [
        ">>__call__ Method in Python\n",
        "\n",
        "The __call__ method lets you make an object behave like a function.\n",
        "\n",
        "Purpose:\n",
        "\n",
        "Allows instances of a class to be called using parentheses, like obj().\n",
        "\n",
        "Example:\n",
        "\n",
        "class Greeter:\n",
        "\n",
        "    def __call__(self, name):\n",
        "        return f\"Hello, {name}!\"\n",
        "\n",
        "greet = Greeter()\n",
        "\n",
        "print(greet(\"Alice\"))  # Output: Hello, Alice!\n"
      ],
      "metadata": {
        "id": "GIrP1IW_rl33"
      }
    },
    {
      "cell_type": "markdown",
      "source": [
        "# Practical Questions"
      ],
      "metadata": {
        "id": "SRv0n7_Nz-lX"
      }
    },
    {
      "cell_type": "code",
      "source": [
        "'''Create a parent class Animal with a method speak() that prints a generic message.\n",
        "Create a child class Dog that overrides the speak() method to print \"Bark!\".\n",
        "'''\n",
        "\n",
        "class Animal:\n",
        "  def speak(self):\n",
        "    print(\"spoken way\")\n",
        "\n",
        "class Dog:\n",
        "  def speak(self):\n",
        "    print(\"Bark\")\n",
        "\n",
        "\n",
        "obj = Dog()\n",
        "obj.speak()\n",
        "\n",
        "obj = Animal()\n",
        "obj.speak()\n"
      ],
      "metadata": {
        "colab": {
          "base_uri": "https://localhost:8080/"
        },
        "id": "3Aw9bfE20U1j",
        "outputId": "9624a5d3-12d8-42d4-fcba-8071f89d7cf2"
      },
      "execution_count": null,
      "outputs": [
        {
          "output_type": "stream",
          "name": "stdout",
          "text": [
            "Bark\n",
            "spoken way\n"
          ]
        }
      ]
    },
    {
      "cell_type": "code",
      "execution_count": null,
      "metadata": {
        "id": "bvvLdm4WShw1",
        "colab": {
          "base_uri": "https://localhost:8080/"
        },
        "outputId": "99de66e6-900d-4948-c178-2fb9b78d763d"
      },
      "outputs": [
        {
          "output_type": "stream",
          "name": "stdout",
          "text": [
            "Circle Area:  50.24\n",
            "Ractangle Area:  30\n"
          ]
        }
      ],
      "source": [
        "\n",
        "'''\n",
        "Write a program to create an abstract class Shape with a method area().\n",
        "Derive classes Circle and Rectangle from it and implement the area() method in both.\n",
        "'''\n",
        "\n",
        "from abc import ABC, abstractmethod\n",
        "\n",
        "class Shape(ABC):\n",
        "  @abstractmethod\n",
        "  def area(self):\n",
        "    pass\n",
        "\n",
        "class circle(Shape):\n",
        "  def __init__(self, radius):\n",
        "    self.radius = radius\n",
        "\n",
        "\n",
        "  def area(self):\n",
        "    return  3.14 * self.radius * self.radius\n",
        "\n",
        "class rectangle(Shape):\n",
        "  def __init__(self, width, height):\n",
        "    self.width = width\n",
        "    self.height = height\n",
        "\n",
        "  def area(self):\n",
        "    return self.width * self.height\n",
        "\n",
        "obj1 = circle(4)\n",
        "print('Circle Area: ', obj1.area() )\n",
        "\n",
        "obj2 = rectangle(5,6)\n",
        "print('Ractangle Area: ', obj2.area() )\n"
      ]
    },
    {
      "cell_type": "code",
      "source": [
        "'''\n",
        "Implement a multi-level inheritance scenario where a class Vehicle\n",
        "has an attribute type. Derive a class Car and further derive a class\n",
        "ElectricCar that adds a battery attribute.\n",
        "'''\n",
        "\n",
        "class Vehicle:\n",
        "    def __init__(self, vehicle_type):\n",
        "        self.vehicle_type = vehicle_type\n",
        "\n",
        "    def show_type(self):\n",
        "        print(f\"vehicle type : {self.vehicle_type}\")\n",
        "\n",
        "\n",
        "class Car(Vehicle):\n",
        "    def __init__(self, vehicle_type, make, model):\n",
        "        super().__init__(vehicle_type)\n",
        "        self.make = make\n",
        "        self.model = model\n",
        "\n",
        "    def show_details(self):\n",
        "        print(f\"{self.make} {self.model}\")\n",
        "\n",
        "class ElectricCar(Car):\n",
        "    def __init__(self, vehicle_type, make, model, battery_capacity):\n",
        "        super().__init__(vehicle_type, make, model)\n",
        "        self.battery_capacity = battery_capacity\n",
        "\n",
        "    def battery_info(self):\n",
        "        print(f\"Battery Capacity: {self.battery_capacity} kWh\")\n",
        "\n",
        "\n",
        "car1 = ElectricCar(\"elctric car\", \"Kv\" , \"model 8\", \"85\" )\n",
        "\n",
        "car1.show_type()\n",
        "car1.show_details()\n",
        "car1.battery_info()"
      ],
      "metadata": {
        "id": "wStEaN4V3vgF",
        "colab": {
          "base_uri": "https://localhost:8080/"
        },
        "outputId": "be0af572-5167-40b7-b552-2156a19d585e"
      },
      "execution_count": null,
      "outputs": [
        {
          "output_type": "stream",
          "name": "stdout",
          "text": [
            "vehicle type : elctric car\n",
            "Kv model 8\n",
            "Battery Capacity: 85 kWh\n"
          ]
        }
      ]
    },
    {
      "cell_type": "code",
      "source": [
        "'''\n",
        "Demonstrate polymorphism by creating a base class Bird with a method fly().\n",
        "Create two derived classes Sparrow and Penguin that override the fly() method.\n",
        "'''\n",
        "\n",
        "#Poymorphism>> overriding\n",
        "class Bird:\n",
        "  def __init__(self, bird_type):\n",
        "    self.bird_type = bird_type\n",
        "\n",
        "  def fly(self):\n",
        "    print(\"birds are flying\")\n",
        "\n",
        "class Sparrow(Bird):\n",
        "  def __init__(self, bird_type, bird_sounds):\n",
        "    super().__init__(bird_type)\n",
        "    self.bird_sounds = bird_sounds\n",
        "\n",
        "  def fly(self):\n",
        "    print(f\"bird type: {self.bird_type} , bird sounds: {self.bird_sounds}\")\n",
        "\n",
        "class Penguin(Bird):\n",
        "  def __init__(self, bird_type, bird_sounds, bird_food):\n",
        "    super().__init__(bird_type)\n",
        "    self.bird_food = bird_sounds\n",
        "\n",
        "  def fly(self):\n",
        "    print(f\"bird food: {self.bird_food}\")\n",
        "\n",
        "\n",
        "bird_obj = Sparrow( \"chirp\", \"seeds\")\n",
        "bird_obj1 = Penguin(\"owl\", \"hoot\", \"insects\")\n",
        "\n",
        "bird_obj.fly()\n",
        "bird_obj1.fly()\n",
        "\n"
      ],
      "metadata": {
        "id": "ShLwcRL_epHt",
        "colab": {
          "base_uri": "https://localhost:8080/"
        },
        "outputId": "a4d44c30-834c-450c-c852-70d6d4e27e37"
      },
      "execution_count": null,
      "outputs": [
        {
          "output_type": "stream",
          "name": "stdout",
          "text": [
            "bird type: chirp , bird sounds: seeds\n",
            "bird food: hoot\n"
          ]
        }
      ]
    },
    {
      "cell_type": "code",
      "source": [
        "'''\n",
        "Write a program to demonstrate encapsulation by creating a class BankAccount\n",
        "with private attributes balance and methods to deposit, withdraw, and check balance.\n",
        "'''\n",
        "\n",
        "#Encapsulation>> hide the internal details\n",
        "class BankAccount:\n",
        "  def __init__(self, account_number, account_holder, balance):\n",
        "    self.account_number = account_number\n",
        "    self.account_holder = account_holder\n",
        "    self.balance = balance\n",
        "\n",
        "  def Deposite(self,amount):\n",
        "    if amount > 0:\n",
        "      self.balance = self.balance + amount\n",
        "      print(f\"Deposite: {amount} , New balance: {self.balance}\")\n",
        "    else:\n",
        "      print(\"Deposite amount in positive\")\n",
        "\n",
        "  def withdraw(self, withdraw_amt):\n",
        "    if withdraw_amt <= self.balance:\n",
        "       self.balance = self.balance - withdraw_amt\n",
        "       print(f\"withdraw: {withdraw_amt}, New balance: {self.balance}\")\n",
        "    else:\n",
        "       print(\"insufficent\")\n",
        "\n",
        "  def CheakBalance(self):\n",
        "    print(f\" cheak balance : {self.balance}\")\n",
        "\n",
        "obj = BankAccount(\"AC123\", \"Anu Rawat\", 10000)\n",
        "obj.Deposite(2000)\n",
        "obj.withdraw(1000)\n",
        "obj.CheakBalance()"
      ],
      "metadata": {
        "id": "ymmsmXP-m3a9",
        "colab": {
          "base_uri": "https://localhost:8080/"
        },
        "outputId": "e32fea12-f8f5-4a20-ef8f-f376d977d5a5"
      },
      "execution_count": null,
      "outputs": [
        {
          "output_type": "stream",
          "name": "stdout",
          "text": [
            "Deposite: 2000 , New balance: 12000\n",
            "withdraw: 1000, New balance: 11000\n",
            " cheak balance : 11000\n"
          ]
        }
      ]
    },
    {
      "cell_type": "code",
      "source": [
        "'''\n",
        "Demonstrate runtime polymorphism using a method play() in a base class Instrument.\n",
        "Derive classes Guitar and Piano that implement their own version of play().\n",
        "'''\n",
        "class Instrument:\n",
        "  def play(self):\n",
        "    print(\"The instrument is playing\")\n",
        "\n",
        "class Guitar(Instrument):\n",
        "  def play(self):\n",
        "    print(\"Playing guitar strings\")\n",
        "\n",
        "class Piano(Instrument):\n",
        "  def play(self):\n",
        "    print(\"Playing piano\")\n",
        "\n",
        "def start_procces(Instrument):\n",
        "  Instrument.play()\n",
        "\n",
        "g = Guitar()\n",
        "p = Piano()\n",
        "\n",
        "start_procces(g)\n",
        "start_procces(p)"
      ],
      "metadata": {
        "colab": {
          "base_uri": "https://localhost:8080/"
        },
        "id": "NzwgMoxN1z5I",
        "outputId": "1a7e16e5-08f9-4c30-a1c7-cfd0562bb34e"
      },
      "execution_count": null,
      "outputs": [
        {
          "output_type": "stream",
          "name": "stdout",
          "text": [
            "Playing guitar strings\n",
            "Playing piano\n"
          ]
        }
      ]
    },
    {
      "cell_type": "code",
      "source": [
        "'''\n",
        "Create a class MathOperations with a class method add_numbers() to add two numbers and a static\n",
        "method subtract_numbers() to subtract two numbers.\n",
        "'''\n",
        "class MathOperations:\n",
        "\n",
        "    @classmethod\n",
        "    def add_numbers(cls, a, b):\n",
        "        result = a + b\n",
        "        print(f\"Class Method - Add: {a} + {b} = {result}\")\n",
        "        return result\n",
        "\n",
        "    @staticmethod\n",
        "    def subtract_numbers(a, b):\n",
        "        result = a - b\n",
        "        print(f\"Static Method - Subtract: {a} - {b} = {result}\")\n",
        "        return result\n",
        "\n",
        "\n",
        "# Using the class method\n",
        "MathOperations.add_numbers(10, 5)\n",
        "\n",
        "# Using the static method\n",
        "MathOperations.subtract_numbers(10, 5)\n"
      ],
      "metadata": {
        "colab": {
          "base_uri": "https://localhost:8080/"
        },
        "id": "rr2tkCzT6YLF",
        "outputId": "c2cc7e15-c0bd-42b3-c3bc-57c7d5b2b62c"
      },
      "execution_count": null,
      "outputs": [
        {
          "output_type": "stream",
          "name": "stdout",
          "text": [
            "Class Method - Add: 10 + 5 = 15\n",
            "Static Method - Subtract: 10 - 5 = 5\n"
          ]
        },
        {
          "output_type": "execute_result",
          "data": {
            "text/plain": [
              "5"
            ]
          },
          "metadata": {},
          "execution_count": 23
        }
      ]
    },
    {
      "cell_type": "code",
      "source": [
        "## Implement a class Person with a class method to count the total number of persons created.\n",
        "\n",
        "class Person:\n",
        "  total_person = 0\n",
        "\n",
        "  def __init__(self, name):\n",
        "    self.name = name\n",
        "    Person.total_person = Person.total_person + 1\n",
        "\n",
        "  def get_total_person(self):\n",
        "    print(f\"total person created : {self.total_person}\")\n",
        "\n",
        "person = Person(\"Anu\")\n",
        "person = Person(\"Navin\")\n",
        "person = Person(\"Ajay\")\n",
        "\n",
        "person.get_total_person()\n"
      ],
      "metadata": {
        "colab": {
          "base_uri": "https://localhost:8080/"
        },
        "id": "Cxy7dwmb66DP",
        "outputId": "5cbc6570-2987-4aec-dd8a-88e64766dad1"
      },
      "execution_count": null,
      "outputs": [
        {
          "output_type": "stream",
          "name": "stdout",
          "text": [
            "total person created : 3\n"
          ]
        }
      ]
    },
    {
      "cell_type": "code",
      "source": [
        "'''\n",
        "Write a class Fraction with attributes numerator and denominator. Override the str method to display the\n",
        "fraction as \"numerator/denominator\".\n",
        "'''\n",
        "class Fraction:\n",
        "  def __init__(self, numerator, denominator):\n",
        "    self.numerator = numerator\n",
        "    self.denominator = denominator\n",
        "\n",
        "  def __str__(self):\n",
        "    return f\"{self.numerator} / {self.denominator}\"\n",
        "\n",
        "  def get_numerator(self):\n",
        "    print(f\"{self.numerator}\")\n",
        "\n",
        "  def get_denominator(self):\n",
        "    print(f\"{self.denominator}\")\n",
        "\n",
        "\n",
        "fraction = Fraction(3,5)\n",
        "\n",
        "print(fraction)"
      ],
      "metadata": {
        "colab": {
          "base_uri": "https://localhost:8080/"
        },
        "id": "FIthKbxb_Et6",
        "outputId": "01588b2a-b5a3-4ece-8b0e-455506bc82cc"
      },
      "execution_count": null,
      "outputs": [
        {
          "output_type": "stream",
          "name": "stdout",
          "text": [
            "3 / 5\n"
          ]
        }
      ]
    },
    {
      "cell_type": "code",
      "source": [
        "'''\n",
        "Demonstrate operator overloading by creating a class Vector and overriding the add method to add two\n",
        "vectors.\n",
        "'''\n",
        "\n",
        "class Vector:\n",
        "    def __init__(self, number1, number2):\n",
        "        self.number1 = number1\n",
        "        self.number2 = number2\n",
        "\n",
        "    def __add__(self, other):\n",
        "        print(f\"Vector : {self.number1 + other.number1, self.number2 + other.number2}\")\n",
        "\n",
        "    def __str__(self):\n",
        "        print(f\"Vector({self.number1}, {self.number2})\")\n",
        "\n",
        "v1 = Vector(2, 3)\n",
        "v2 = Vector(4, 5)\n",
        "\n",
        "v3 = v1 + v2"
      ],
      "metadata": {
        "colab": {
          "base_uri": "https://localhost:8080/"
        },
        "id": "aE9cy3wOJ9VY",
        "outputId": "8986c329-291c-4806-8650-dca789969ceb"
      },
      "execution_count": null,
      "outputs": [
        {
          "output_type": "stream",
          "name": "stdout",
          "text": [
            "Vector : (6, 8)\n"
          ]
        }
      ]
    },
    {
      "cell_type": "code",
      "source": [
        "'''\n",
        "Create a class Person with attributes name and age. Add a method greet() that prints \"Hello, my name is\n",
        "{name} and I am {age} years old.\"\n",
        "'''\n",
        "\n",
        "class Person:\n",
        "  def __init__(self, name , age):\n",
        "    self.name = name\n",
        "    self.age = age\n",
        "\n",
        "  def greet(self):\n",
        "    print(f\" Hello, my name is {self.name} and I am {self.age} year old \")\n",
        "\n",
        "obj1 = Person(\"Anu\", \"22\")\n",
        "\n",
        "obj1.greet()\n"
      ],
      "metadata": {
        "colab": {
          "base_uri": "https://localhost:8080/"
        },
        "id": "qBFRyY-0Lujo",
        "outputId": "e9b5bbff-4645-440f-92c6-d48250690be1"
      },
      "execution_count": null,
      "outputs": [
        {
          "output_type": "stream",
          "name": "stdout",
          "text": [
            " Hello, my name is Anu and I am 22 year old \n"
          ]
        }
      ]
    },
    {
      "cell_type": "code",
      "source": [
        "'''\n",
        "Implement a class Student with attributes name and grades. Create a method average_grade() to compute\n",
        "the average of the grades.\n",
        "'''\n",
        "\n",
        "# class Student:\n",
        "#   def __init__(self, name , grades):\n",
        "#     self.name = name\n",
        "#     self.grades = grades\n",
        "\n",
        "#   def add_grade(self, g):\n",
        "#     if 0 <= self.grades+g <= 100:\n",
        "#       self.grades = self.grades+g\n",
        "#     else:\n",
        "#       print(\" invalid grade\")\n",
        "\n",
        "\n",
        "#   def average_grade(self):\n",
        "#     if self.grades >= 100:\n",
        "#       return sum({self.grades} / {len(self.grades)})\n",
        "\n",
        "\n",
        "# obj = Student(\"Anu\", \"grades\")\n",
        "\n",
        "# obj.add_grade(90)\n",
        "# obj.add_grade(80)\n",
        "\n",
        "class Student:\n",
        "    def __init__(self, name, grades=None):\n",
        "        self.name = name\n",
        "        self.grades = grades if grades is not None else []\n",
        "\n",
        "    def add_grade(self, g):\n",
        "        if 0 <= g <= 100:\n",
        "            self.grades.append(g)                  ###########\n",
        "        else:\n",
        "            print(\"Invalid grade\")\n",
        "\n",
        "    def average_grade(self):\n",
        "        if self.grades:\n",
        "            return sum(self.grades) / len(self.grades)\n",
        "        else:\n",
        "            return 0\n",
        "\n",
        "# Create a Student object\n",
        "obj = Student(\"Anu\")\n",
        "\n",
        "# Add grades\n",
        "obj.add_grade(90)\n",
        "obj.add_grade(80)\n",
        "\n",
        "# Print average\n",
        "print(f\"{obj.name}'s average grade: {obj.average_grade()}\")\n",
        "\n"
      ],
      "metadata": {
        "colab": {
          "base_uri": "https://localhost:8080/"
        },
        "id": "8O-dYm6xUraB",
        "outputId": "ad684620-253d-462b-cc4e-02c07daf380a"
      },
      "execution_count": null,
      "outputs": [
        {
          "output_type": "stream",
          "name": "stdout",
          "text": [
            "Anu's average grade: 85.0\n"
          ]
        }
      ]
    },
    {
      "cell_type": "code",
      "source": [
        "'''\n",
        "Create a class Rectangle with methods set_dimensions() to set the dimensions and area() to calculate the\n",
        "area\n",
        "'''\n",
        "\n",
        "class Rectangle:\n",
        "    def __init__(self):\n",
        "        self.width = 0\n",
        "        self.height = 0\n",
        "\n",
        "    def set_dimensions(self, width, height):\n",
        "        self.width = width\n",
        "        self.height = height\n",
        "\n",
        "    def area(self):\n",
        "        return self.width * self.height\n",
        "\n",
        "# Example usage\n",
        "rect = Rectangle()\n",
        "rect.set_dimensions(5, 4)\n",
        "print(f\"Area of rectangle: {rect.area()}\")\n"
      ],
      "metadata": {
        "id": "069WSFQ1cgxz",
        "colab": {
          "base_uri": "https://localhost:8080/"
        },
        "outputId": "84715794-f517-447b-cc9a-30d4d3b768b9"
      },
      "execution_count": null,
      "outputs": [
        {
          "output_type": "stream",
          "name": "stdout",
          "text": [
            "Area of rectangle: 20\n"
          ]
        }
      ]
    },
    {
      "cell_type": "code",
      "source": [
        "'''\n",
        "Create a class Employee with a method calculate_salary() that computes the salary based on hours worked\n",
        "and hourly rate. Create a derived class Manager that adds a bonus to the salary.\n",
        "'''\n",
        "\n",
        "class Employee:\n",
        "  def __init__(self, name, hours_worked, hourly_rate):\n",
        "    self.name = name\n",
        "    self.hours_worked = hours_worked\n",
        "    self.hourly_rate = hourly_rate\n",
        "\n",
        "\n",
        "  def calculate_salary(self):\n",
        "    return self.hours_worked * self.hourly_rate\n",
        "\n",
        "\n",
        "class Manager(Employee):\n",
        "  def __init__(self, name, hours_worked, hourly_rate, bonus):\n",
        "    super().__init__(name, hours_worked, hourly_rate)\n",
        "    self.bonus = bonus\n",
        "\n",
        "\n",
        "  def calculate_salary(self):\n",
        "    base_salary = super().calculate_salary()\n",
        "    return base_salary + self.bonus\n",
        "\n",
        "emp = Employee(\"Anu\", 40, 100)\n",
        "print(f\"{emp.name} salary:{emp.calculate_salary()}\")\n",
        "\n",
        "mng = Manager(\"Navin\", 40, 100, 1000)\n",
        "print(f\"{mng.name} salary with bonus:{mng.calculate_salary()}\")"
      ],
      "metadata": {
        "id": "v2AmR1_bqC-D",
        "colab": {
          "base_uri": "https://localhost:8080/"
        },
        "outputId": "b8929a04-17b0-49bc-efff-2b5ce1d9b404"
      },
      "execution_count": null,
      "outputs": [
        {
          "output_type": "stream",
          "name": "stdout",
          "text": [
            "Anu salary:4000\n",
            "Navin salary with bonus:5000\n"
          ]
        }
      ]
    },
    {
      "cell_type": "code",
      "source": [
        "'''\n",
        "Create a class Product with attributes name, price, and quantity. Implement a method total_price() that\n",
        "calculates the total price of the product.\n",
        "'''\n",
        "\n",
        "class Product:\n",
        "  def __init__(self, name, price, quantity):\n",
        "    self.name = name\n",
        "    self.price = price\n",
        "    self.quantity = quantity\n",
        "\n",
        "  def total_price(self):\n",
        "    return self.price * self.quantity\n",
        "\n",
        "item = Product(\"laptop\", 30000, 2)\n",
        "print(f\"total price of {item.quantity} {item.name}: {item.total_price()}\")\n",
        "\n"
      ],
      "metadata": {
        "colab": {
          "base_uri": "https://localhost:8080/"
        },
        "id": "azVX1HKBYAag",
        "outputId": "8cc9f1c5-33a8-4b9a-e840-632aeafa97c4"
      },
      "execution_count": null,
      "outputs": [
        {
          "output_type": "stream",
          "name": "stdout",
          "text": [
            "total price of 2 laptop: 60000\n"
          ]
        }
      ]
    },
    {
      "cell_type": "code",
      "source": [
        "'''\n",
        "Create a class Animal with an abstract method sound(). Create two derived classes Cow and Sheep that\n",
        "implement the sound() method.\n",
        "'''\n",
        "\n",
        "class Animal:\n",
        "  def __init__(self, animal_name):\n",
        "    self.animal_name = animal_name\n",
        "\n",
        "  def sound(self):\n",
        "    raise (\"implement the sound\")\n",
        "\n",
        "\n",
        "class Cow(Animal):\n",
        "  def sound(self):\n",
        "    return \"Moo\"\n",
        "\n",
        "class Sheep(Animal):\n",
        "  def sound(self):\n",
        "    return \"Baa\"\n",
        "\n",
        "cow = Cow(\"mata\")\n",
        "sheep = Sheep(\"baala\")\n",
        "\n",
        "print(f\"{cow.animal_name} sound is: {cow.sound()} \")\n",
        "print(f\"{sheep.animal_name} sound is: {sheep.sound()} \")"
      ],
      "metadata": {
        "colab": {
          "base_uri": "https://localhost:8080/"
        },
        "id": "E1pOssxteN2u",
        "outputId": "2289b43e-b138-46eb-e303-49ed4b942d5c"
      },
      "execution_count": null,
      "outputs": [
        {
          "output_type": "stream",
          "name": "stdout",
          "text": [
            "mata sound is: Moo \n",
            "baala sound is: Baa \n"
          ]
        }
      ]
    },
    {
      "cell_type": "code",
      "source": [
        "'''\n",
        "Create a class Book with attributes title, author, and year_published. Add a method get_book_info() that\n",
        "returns a formatted string with the book's details.\n",
        "'''\n",
        "class Book:\n",
        "  def __init__(self,title, author, year_published ):\n",
        "    self.tittle = title\n",
        "    self.author = author\n",
        "    self.year_published = year_published\n",
        "\n",
        "  def get_book_info(self):\n",
        "    return f\"tittle of book : {self.tittle}, author of book : {self.author}, published year : {self.year_published}\"\n",
        "\n",
        "book1 = Book(\"2 state\",\"chetan bhgat\", \"2009\")\n",
        "book2 = Book(\"half girlfriend\",\"cheatn bhgat\", \"2007\")\n",
        "\n",
        "\n",
        "book1.get_book_info()\n",
        "book2.get_book_info()                   #######\n"
      ],
      "metadata": {
        "colab": {
          "base_uri": "https://localhost:8080/",
          "height": 35
        },
        "id": "nHrYRpaylZF-",
        "outputId": "fc3c3cf4-e47a-4f5e-d397-2b9a34402f46"
      },
      "execution_count": null,
      "outputs": [
        {
          "output_type": "execute_result",
          "data": {
            "text/plain": [
              "'tittle of book : half girlfriend, author of book : cheatn bhgat, published year : 2007'"
            ],
            "application/vnd.google.colaboratory.intrinsic+json": {
              "type": "string"
            }
          },
          "metadata": {},
          "execution_count": 17
        }
      ]
    },
    {
      "cell_type": "code",
      "source": [
        "'''\n",
        "Create a class House with attributes address and price. Create a derived class Mansion that adds an\n",
        "attribute number_of_rooms.\n",
        "'''\n",
        "class House:\n",
        "  def __init__(self, address, price):\n",
        "    self.address = address\n",
        "    self.price = price\n",
        "    pass\n",
        "\n",
        "class Mansion(House):\n",
        "  def __init__(self, address, price, number_of_rooms):\n",
        "    super().__init__(address , price)\n",
        "    self.number_of_rooms = number_of_rooms\n",
        "\n",
        "  def house_details(self):\n",
        "    print(f\"house address : {self.address}, house price : {self.price} , number of rooms : {self.number_of_rooms}\")\n",
        "\n",
        "obj = Mansion(\"123 mukhargee apartment jaipur\", 1000000, 3)\n",
        "obj.house_details()\n",
        "\n"
      ],
      "metadata": {
        "colab": {
          "base_uri": "https://localhost:8080/"
        },
        "id": "B5-n8Y-Rn0zF",
        "outputId": "fc1e5e71-46bb-4fd1-cd35-99a8b37d46a1"
      },
      "execution_count": null,
      "outputs": [
        {
          "output_type": "stream",
          "name": "stdout",
          "text": [
            "house address : 123 mukhargee apartment jaipur, house price : 1000000 , number of rooms : 3\n"
          ]
        }
      ]
    },
    {
      "cell_type": "code",
      "source": [],
      "metadata": {
        "id": "vmfgEC6rr34r"
      },
      "execution_count": null,
      "outputs": []
    }
  ]
}